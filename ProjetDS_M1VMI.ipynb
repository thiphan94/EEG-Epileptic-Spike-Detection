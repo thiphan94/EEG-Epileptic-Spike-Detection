{
  "nbformat": 4,
  "nbformat_minor": 0,
  "metadata": {
    "colab": {
      "name": "ProjetDS_M1VMI",
      "provenance": [],
      "collapsed_sections": [],
      "toc_visible": true,
      "authorship_tag": "ABX9TyNObiiYZ5rCtr9Y5/fckCdJ",
      "include_colab_link": true
    },
    "kernelspec": {
      "name": "python3",
      "display_name": "Python 3"
    },
    "language_info": {
      "name": "python"
    }
  },
  "cells": [
    {
      "cell_type": "markdown",
      "metadata": {
        "id": "view-in-github",
        "colab_type": "text"
      },
      "source": [
        "<a href=\"https://colab.research.google.com/github/thiphan94/EEG-Epileptic-Spike-Detection/blob/main/ProjetDS_M1VMI.ipynb\" target=\"_parent\"><img src=\"https://colab.research.google.com/assets/colab-badge.svg\" alt=\"Open In Colab\"/></a>"
      ]
    },
    {
      "cell_type": "code",
      "source": [
        "!apt-get install openjdk-8-jdk-headless -qq > /dev/null\n",
        "!wget -q https://archive.apache.org/dist/spark/spark-3.2.0/spark-3.2.0-bin-hadoop3.2.tgz\n",
        "!tar xf spark-3.2.0-bin-hadoop3.2.tgz\n",
        "!pip install -q findspark"
      ],
      "metadata": {
        "id": "tPV4r8Tv4scx"
      },
      "execution_count": null,
      "outputs": []
    },
    {
      "cell_type": "code",
      "source": [
        "import os\n",
        "os.environ[\"JAVA_HOME\"] = \"/usr/lib/jvm/java-8-openjdk-amd64\"\n",
        "os.environ[\"SPARK_HOME\"] = \"/content/spark-3.2.0-bin-hadoop3.2\""
      ],
      "metadata": {
        "id": "In7rkgln4t93"
      },
      "execution_count": null,
      "outputs": []
    },
    {
      "cell_type": "code",
      "source": [
        "import findspark\n",
        "findspark.init()\n",
        "from pyspark.sql import SparkSession\n",
        "spark = SparkSession.builder.master(\"local[*]\").getOrCreate()"
      ],
      "metadata": {
        "id": "4cnupvOn4uGw"
      },
      "execution_count": null,
      "outputs": []
    },
    {
      "cell_type": "code",
      "source": [
        "sc = spark.sparkContext"
      ],
      "metadata": {
        "id": "_gkec2OEcJ41"
      },
      "execution_count": null,
      "outputs": []
    },
    {
      "cell_type": "code",
      "execution_count": null,
      "metadata": {
        "id": "YWPS8-Zx4ck6"
      },
      "outputs": [],
      "source": [
        "import numpy as np\n",
        "import matplotlib.pyplot as plt"
      ]
    },
    {
      "cell_type": "code",
      "source": [
        "!wget -q https://drive.google.com/drive/folders/1HkqKYNpxZb8HGdct-seQHxjBHx-_Zoux -o exp1-train-400pos.bin\n"
      ],
      "metadata": {
        "id": "_IrejjGDcJ9I"
      },
      "execution_count": null,
      "outputs": []
    },
    {
      "cell_type": "code",
      "source": [
        "# Mount data from drive\n",
        "from google.colab import drive\n",
        "drive.mount('/content/drive')\n",
        "\n",
        "#pandas.read_csv(\"/content/drive/My Drive/DS/exp1-train-400pos.bin\")"
      ],
      "metadata": {
        "colab": {
          "base_uri": "https://localhost:8080/"
        },
        "id": "VqTZLI_Ig0cb",
        "outputId": "8442bca9-77ec-42ed-80d7-5b3b42cac7e1"
      },
      "execution_count": null,
      "outputs": [
        {
          "output_type": "stream",
          "name": "stdout",
          "text": [
            "Mounted at /content/drive\n"
          ]
        }
      ]
    },
    {
      "cell_type": "code",
      "source": [
        "positive = np.fromfile('/content/drive/My Drive/DS/exp1-train-400pos.bin', dtype=np.float32).reshape([400, 5, 768])\n",
        "print(positive[0]) # serie a index 0\n"
      ],
      "metadata": {
        "id": "WZrR4J3O4fBc",
        "colab": {
          "base_uri": "https://localhost:8080/"
        },
        "outputId": "a867653d-e43d-41b0-9d94-bd96c6558b42"
      },
      "execution_count": null,
      "outputs": [
        {
          "output_type": "stream",
          "name": "stdout",
          "text": [
            "[[108.586235  114.79495   123.19051   ...  60.54001    58.97502\n",
            "   57.160065 ]\n",
            " [ 74.36134    65.23321    56.587635  ... 174.56192   201.22633\n",
            "  226.48232  ]\n",
            " [ 27.66805    26.607937   25.71433   ...  11.367872    5.6884537\n",
            "   -1.249531 ]\n",
            " [-38.680317  -36.550137  -34.62852   ... -33.736874  -34.02954\n",
            "  -32.900883 ]\n",
            " [-67.347176  -67.13902   -66.79243   ... -14.910572  -14.21761\n",
            "  -13.904621 ]]\n"
          ]
        }
      ]
    },
    {
      "cell_type": "code",
      "source": [
        "negative = np.fromfile('/content/drive/My Drive/DS/exp1-train-2000neg.bin', dtype=np.float32).reshape([2000, 5, 768])\n",
        "print(negative[0]) # serie a index 0"
      ],
      "metadata": {
        "colab": {
          "base_uri": "https://localhost:8080/"
        },
        "id": "c_spuLhzeCFI",
        "outputId": "e7a6e73b-2651-4678-ba3b-0c215a70443d"
      },
      "execution_count": null,
      "outputs": [
        {
          "output_type": "stream",
          "name": "stdout",
          "text": [
            "[[   6.789578     3.9754174    2.123387  ...    7.663398    19.70175\n",
            "    29.822718 ]\n",
            " [  52.455315    45.362495    40.24864   ... -126.393745  -135.78629\n",
            "  -140.47087  ]\n",
            " [  22.910574    25.087786    26.635937  ...   33.466297    29.417503\n",
            "    24.683107 ]\n",
            " [ -25.243269   -23.278872   -21.599247  ...   47.55119     38.669083\n",
            "    29.768295 ]\n",
            " [ -15.771972   -17.735523   -19.532282  ...    1.2826554    3.9923859\n",
            "     6.565947 ]]\n"
          ]
        }
      ]
    },
    {
      "cell_type": "code",
      "source": [
        "test = np.fromfile('/content/drive/My Drive/DS/exp12-test-1200.bin', dtype=np.float32).reshape([1200, 5, 768])\n",
        "print(test[0]) # serie a index 0\n",
        "print(test.shape)"
      ],
      "metadata": {
        "colab": {
          "base_uri": "https://localhost:8080/"
        },
        "id": "nk44P-BuhtCJ",
        "outputId": "6952a6d0-5a1c-43eb-c770-626ee0e4b404"
      },
      "execution_count": null,
      "outputs": [
        {
          "output_type": "stream",
          "name": "stdout",
          "text": [
            "[[ -84.48852   -76.999725  -70.13329  ...   92.868576   89.97075\n",
            "    86.97282 ]\n",
            " [ -54.551765  -52.85429   -50.94947  ... -138.15437  -135.48616\n",
            "  -130.9657  ]\n",
            " [  22.767483   25.895237   28.2063   ...   11.471104   10.629795\n",
            "     9.655205]\n",
            " [  52.576946   59.047306   65.31609  ...   20.003866   18.316921\n",
            "    16.435457]\n",
            " [  -7.797365  -15.986874  -25.377964 ...  -10.434038   -8.745315\n",
            "    -7.559099]]\n",
            "(1200, 5, 768)\n"
          ]
        }
      ]
    },
    {
      "cell_type": "code",
      "source": [
        "# before attache two file positive and negative\n",
        "print(positive.shape)\n",
        "print(negative.shape)\n",
        "# attache two files\n",
        "new_dataset = np.append(positive,negative, axis=0)\n",
        "print(new_dataset.shape)\n",
        "print(new_dataset[0])"
      ],
      "metadata": {
        "id": "F5df-sq5pHZl",
        "colab": {
          "base_uri": "https://localhost:8080/"
        },
        "outputId": "06659d94-f2e8-4548-d94c-f8a7871ee534"
      },
      "execution_count": null,
      "outputs": [
        {
          "output_type": "stream",
          "name": "stdout",
          "text": [
            "(400, 5, 768)\n",
            "(2000, 5, 768)\n",
            "(2400, 5, 768)\n",
            "[[108.586235  114.79495   123.19051   ...  60.54001    58.97502\n",
            "   57.160065 ]\n",
            " [ 74.36134    65.23321    56.587635  ... 174.56192   201.22633\n",
            "  226.48232  ]\n",
            " [ 27.66805    26.607937   25.71433   ...  11.367872    5.6884537\n",
            "   -1.249531 ]\n",
            " [-38.680317  -36.550137  -34.62852   ... -33.736874  -34.02954\n",
            "  -32.900883 ]\n",
            " [-67.347176  -67.13902   -66.79243   ... -14.910572  -14.21761\n",
            "  -13.904621 ]]\n"
          ]
        }
      ]
    },
    {
      "cell_type": "code",
      "source": [
        "new_datasetshuffled = np.array(new_dataset)\n",
        "#shuffle new dataset \n",
        "np.random.shuffle(new_datasetshuffled) \n",
        "print(new_datasetshuffled.shape)\n",
        "print(new_datasetshuffled[0])#tester"
      ],
      "metadata": {
        "colab": {
          "base_uri": "https://localhost:8080/"
        },
        "id": "jKrEn59Wy7rb",
        "outputId": "63074d5e-55fc-4c51-a076-fa81883b1112"
      },
      "execution_count": null,
      "outputs": [
        {
          "output_type": "stream",
          "name": "stdout",
          "text": [
            "(2400, 5, 768)\n",
            "[[ 57.342945   53.550804   47.126568  ... -64.58229   -72.03552\n",
            "  -77.59227  ]\n",
            " [ 41.188187   28.741516   19.04529   ... 138.63673   148.37875\n",
            "  155.8531   ]\n",
            " [-14.799361  -11.327429   -7.9313974 ...  35.093204   37.70457\n",
            "   39.51087  ]\n",
            " [-19.316193  -21.13333   -22.699127  ...  -8.161466   -5.233734\n",
            "   -2.1882012]\n",
            " [ 23.05231    24.917385   27.364973  ...   9.079365   11.223859\n",
            "   13.255207 ]]\n"
          ]
        }
      ]
    },
    {
      "cell_type": "code",
      "source": [
        "#index before shuffle\n",
        "#[index for index, value in enumerate(new_dataset)]"
      ],
      "metadata": {
        "id": "cSXCyC20Anru"
      },
      "execution_count": null,
      "outputs": []
    },
    {
      "cell_type": "code",
      "source": [
        "import random\n",
        "x = list(enumerate(new_dataset))\n",
        "random.shuffle(x)\n",
        "indices, new_dataset = zip(*x)\n",
        "indices = np.asarray(indices)\n",
        "print(indices.shape)\n",
        "label = []\n",
        "\n",
        "for index, elem in enumerate(indices):\n",
        "  if 0 <= elem and elem <= 399:\n",
        "    label.append(1)\n",
        "  else:\n",
        "    label.append(0)\n",
        "\n",
        "\n",
        "\n",
        "print(indices[1:10])\n",
        "print(label[1:10])"
      ],
      "metadata": {
        "colab": {
          "base_uri": "https://localhost:8080/"
        },
        "id": "mtv1uFJQ5spS",
        "outputId": "1d05203b-e2a5-4181-83f0-4d8a760cb028"
      },
      "execution_count": null,
      "outputs": [
        {
          "output_type": "stream",
          "name": "stdout",
          "text": [
            "(2400,)\n",
            "[1410 2124  226 1312 1701 1288  555 1472 2276]\n",
            "[0, 0, 1, 0, 0, 0, 0, 0, 0]\n"
          ]
        }
      ]
    },
    {
      "cell_type": "code",
      "source": [
        "from sklearn.decomposition import PCA\n",
        "data_2d = np.array([features_2d.flatten() for features_2d in new_datasetshuffled])\n",
        "pca = PCA(n_components=50)\n",
        "pca.fit(data_2d)\n",
        "data_pca = pca.transform(data_2d)\n",
        "print(\"original shape:   \", data_2d.shape) \n",
        "print(\"transformed shape:\", data_pca.shape)"
      ],
      "metadata": {
        "colab": {
          "base_uri": "https://localhost:8080/"
        },
        "id": "9AjtTkh4FSyv",
        "outputId": "08cd673f-28ac-4957-8283-2e655ce1e139"
      },
      "execution_count": null,
      "outputs": [
        {
          "output_type": "stream",
          "name": "stdout",
          "text": [
            "original shape:    (2400, 3840)\n",
            "transformed shape: (2400, 50)\n"
          ]
        }
      ]
    },
    {
      "cell_type": "code",
      "source": [
        "from sklearn.decomposition import PCA\n",
        "testdata_2d = np.array([features_2d.flatten() for features_2d in test])\n",
        "pca_test = PCA(n_components=50)\n",
        "pca_test.fit(testdata_2d)\n",
        "testdata_pca = pca_test.transform(testdata_2d)\n",
        "print(\"original shape:   \", testdata_2d.shape)\n",
        "print(\"transformed shape:\", testdata_pca.shape)"
      ],
      "metadata": {
        "colab": {
          "base_uri": "https://localhost:8080/"
        },
        "id": "3EVsdkq2_2vJ",
        "outputId": "d61cfe43-a3aa-4ce2-b8d0-3a92f2a5d7c0"
      },
      "execution_count": null,
      "outputs": [
        {
          "output_type": "stream",
          "name": "stdout",
          "text": [
            "original shape:    (1200, 3840)\n",
            "transformed shape: (1200, 50)\n"
          ]
        }
      ]
    },
    {
      "cell_type": "code",
      "source": [
        ""
      ],
      "metadata": {
        "id": "HKY5RVd2x_6I"
      },
      "execution_count": null,
      "outputs": []
    },
    {
      "cell_type": "markdown",
      "source": [
        "# New Section"
      ],
      "metadata": {
        "id": "cqNDGwKbDwCI"
      }
    }
  ]
}